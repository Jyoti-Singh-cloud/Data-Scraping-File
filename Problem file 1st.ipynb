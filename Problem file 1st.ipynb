{
 "cells": [
  {
   "cell_type": "markdown",
   "id": "f695ad20",
   "metadata": {},
   "source": [
    "# TIMES OF INDIA : YOUTUBE CHANNEL "
   ]
  },
  {
   "cell_type": "markdown",
   "id": "52dbb939",
   "metadata": {},
   "source": [
    "# (Scraping data : video_name,video_views,video_when-uploaded)"
   ]
  },
  {
   "cell_type": "code",
   "execution_count": 359,
   "id": "d01a7ae3",
   "metadata": {},
   "outputs": [
    {
     "name": "stdout",
     "output_type": "stream",
     "text": [
      "Note: you may need to restart the kernel to use updated packages.Requirement already satisfied: selenium in c:\\users\\dell\\anaconda3\\lib\\site-packages (4.8.2)\n",
      "Requirement already satisfied: certifi>=2021.10.8 in c:\\users\\dell\\anaconda3\\lib\\site-packages (from selenium) (2022.9.14)\n",
      "Requirement already satisfied: trio-websocket~=0.9 in c:\\users\\dell\\anaconda3\\lib\\site-packages (from selenium) (0.10.2)\n",
      "Requirement already satisfied: trio~=0.17 in c:\\users\\dell\\anaconda3\\lib\\site-packages (from selenium) (0.22.0)\n",
      "Requirement already satisfied: urllib3[socks]~=1.26 in c:\\users\\dell\\anaconda3\\lib\\site-packages (from selenium) (1.26.11)\n",
      "Requirement already satisfied: async-generator>=1.9 in c:\\users\\dell\\anaconda3\\lib\\site-packages (from trio~=0.17->selenium) (1.10)\n",
      "Requirement already satisfied: sortedcontainers in c:\\users\\dell\\anaconda3\\lib\\site-packages (from trio~=0.17->selenium) (2.4.0)\n",
      "Requirement already satisfied: idna in c:\\users\\dell\\anaconda3\\lib\\site-packages (from trio~=0.17->selenium) (3.3)\n",
      "Requirement already satisfied: cffi>=1.14 in c:\\users\\dell\\anaconda3\\lib\\site-packages (from trio~=0.17->selenium) (1.15.1)\n",
      "Requirement already satisfied: attrs>=19.2.0 in c:\\users\\dell\\anaconda3\\lib\\site-packages (from trio~=0.17->selenium) (21.4.0)\n",
      "Requirement already satisfied: exceptiongroup>=1.0.0rc9 in c:\\users\\dell\\anaconda3\\lib\\site-packages (from trio~=0.17->selenium) (1.1.1)\n",
      "Requirement already satisfied: outcome in c:\\users\\dell\\anaconda3\\lib\\site-packages (from trio~=0.17->selenium) (1.2.0)\n",
      "Requirement already satisfied: sniffio in c:\\users\\dell\\anaconda3\\lib\\site-packages (from trio~=0.17->selenium) (1.2.0)\n",
      "Requirement already satisfied: wsproto>=0.14 in c:\\users\\dell\\anaconda3\\lib\\site-packages (from trio-websocket~=0.9->selenium) (1.2.0)\n",
      "Requirement already satisfied: PySocks!=1.5.7,<2.0,>=1.5.6 in c:\\users\\dell\\anaconda3\\lib\\site-packages (from urllib3[socks]~=1.26->selenium) (1.7.1)\n",
      "Requirement already satisfied: pycparser in c:\\users\\dell\\anaconda3\\lib\\site-packages (from cffi>=1.14->trio~=0.17->selenium) (2.21)\n",
      "Requirement already satisfied: h11<1,>=0.9.0 in c:\\users\\dell\\anaconda3\\lib\\site-packages (from wsproto>=0.14->trio-websocket~=0.9->selenium) (0.14.0)\n",
      "\n"
     ]
    }
   ],
   "source": [
    "# install selenium:\n",
    "pip install selenium"
   ]
  },
  {
   "cell_type": "code",
   "execution_count": 360,
   "id": "08249e37",
   "metadata": {},
   "outputs": [],
   "source": [
    "# import the libraries\n",
    "import selenium \n",
    "import pandas as pd\n",
    "from selenium import webdriver \n",
    "import warnings\n",
    "warnings.filterwarnings('ignore')\n",
    "from selenium.common.exceptions import NoSuchElementException\n",
    "from selenium.webdriver.common.by import By\n",
    "import time"
   ]
  },
  {
   "cell_type": "code",
   "execution_count": 449,
   "id": "7ec5eed0",
   "metadata": {},
   "outputs": [],
   "source": [
    "#loading webdriver:\n",
    "driver = webdriver.Chrome(r\"C:\\Users\\md\\Downloads\\chromedriver_win32(1)\\Chromedriver.exe\") "
   ]
  },
  {
   "cell_type": "code",
   "execution_count": 450,
   "id": "da58b5c7",
   "metadata": {},
   "outputs": [],
   "source": [
    "#getting url:\n",
    "url = \"https://www.youtube.com/@timesindia/videos\""
   ]
  },
  {
   "cell_type": "code",
   "execution_count": 451,
   "id": "63bcd2b3",
   "metadata": {},
   "outputs": [],
   "source": [
    "#driver maximize window():\n",
    "driver.get(url)\n",
    "driver.maximize_window() \n",
    "time.sleep(2)"
   ]
  },
  {
   "cell_type": "code",
   "execution_count": 452,
   "id": "7acdc6b0",
   "metadata": {},
   "outputs": [],
   "source": [
    "# make a empty dataframe:\n",
    "video_name =  []\n",
    "video_views= []\n",
    "video_when = []"
   ]
  },
  {
   "cell_type": "code",
   "execution_count": 453,
   "id": "aa187ac1",
   "metadata": {},
   "outputs": [],
   "source": [
    "#Scrapping video_name from the given page:\n",
    "name_tags=driver.find_elements(By.XPATH,\"//a[@class='yt-simple-endpoint focus-on-expand style-scope ytd-rich-grid-media']\")\n",
    "for i in name_tags[1:11]:\n",
    "    name=i.text\n",
    "    video_name.append(name)\n",
    "    "
   ]
  },
  {
   "cell_type": "code",
   "execution_count": 385,
   "id": "d6f1763e",
   "metadata": {},
   "outputs": [
    {
     "data": {
      "text/plain": [
       "10"
      ]
     },
     "execution_count": 385,
     "metadata": {},
     "output_type": "execute_result"
    }
   ],
   "source": [
    "#Checking length:\n",
    "len(video_name)"
   ]
  },
  {
   "cell_type": "code",
   "execution_count": 386,
   "id": "05c6b8f5",
   "metadata": {},
   "outputs": [
    {
     "name": "stdout",
     "output_type": "stream",
     "text": [
      "['Communal violence in Bihar during Ram Navami: Everything that you need to know about Bihar clashes', \"Murder Caught on Camera: CCTV Footage Captures Village Head slained in Maharashtra's Pimpri #cctv\", \"Mark Wood shines with 5-wicket haul as Lucknow Super Giants thrash Delhi Capitals in IPL's 3rd match\", \"Assam: Kejriwal slams Himanta Sarma's 'dirty politics' but invites him for tea at his residence\", 'Karnataka polls: BJP plans at least 20 election rallies of PM Modi', \"Rs 48,20,69,00,00,000 corruption under Congress rule: BJP says in 1st episode of 'Congress Files'\", 'Amit Shah Slams Nitish Kumar: BJP Shuts Doors on Bihar CM !! #bihar #sasaram #amitshah #nitishkumar', \"G20 Meeting to Revolutionize India's Tourism Industry: Minister G Kishan Reddy\", \"Bihar's Sasaram bomb blast: FSL team's investigation unravels details\", \"Arvind Kejriwal raises questions PM Modi's educational qualification, BJP counters\"]\n"
     ]
    }
   ],
   "source": [
    "#cheking details:\n",
    "print(video_name)"
   ]
  },
  {
   "cell_type": "code",
   "execution_count": 393,
   "id": "ce451b91",
   "metadata": {},
   "outputs": [],
   "source": [
    "#Scrapping video_views from the given page:\n",
    "video_views=driver.find_elements(By.XPATH,\"//span[@class='inline-metadata-item style-scope ytd-video-meta-block']\")\n",
    "for i in video_views[1:50]:\n",
    "    views=i.text\n",
    "    video_views.append(views)"
   ]
  },
  {
   "cell_type": "code",
   "execution_count": 394,
   "id": "8a9b3d26",
   "metadata": {},
   "outputs": [
    {
     "data": {
      "text/plain": [
       "289"
      ]
     },
     "execution_count": 394,
     "metadata": {},
     "output_type": "execute_result"
    }
   ],
   "source": [
    "#cheking length:\n",
    "len(video_views)"
   ]
  },
  {
   "cell_type": "code",
   "execution_count": 395,
   "id": "ebccd53a",
   "metadata": {},
   "outputs": [
    {
     "name": "stdout",
     "output_type": "stream",
     "text": [
      "[<selenium.webdriver.remote.webelement.WebElement (session=\"e7121b6c8e75648208601e22b54535a2\", element=\"1f5a3379-95dd-40af-b669-2e17a58966bd\")>, <selenium.webdriver.remote.webelement.WebElement (session=\"e7121b6c8e75648208601e22b54535a2\", element=\"dca923a8-8ff4-4779-8a01-86dfcf9c46f6\")>, <selenium.webdriver.remote.webelement.WebElement (session=\"e7121b6c8e75648208601e22b54535a2\", element=\"9c4b26b5-6f68-4580-936b-f8e19838d135\")>, <selenium.webdriver.remote.webelement.WebElement (session=\"e7121b6c8e75648208601e22b54535a2\", element=\"4ef31797-ffe7-418f-918f-5444ebf3fd19\")>, <selenium.webdriver.remote.webelement.WebElement (session=\"e7121b6c8e75648208601e22b54535a2\", element=\"dcb18c00-2320-4dee-b0d3-16e796d0530d\")>, <selenium.webdriver.remote.webelement.WebElement (session=\"e7121b6c8e75648208601e22b54535a2\", element=\"afced50c-411c-42bb-95c0-f61392a2f52b\")>, <selenium.webdriver.remote.webelement.WebElement (session=\"e7121b6c8e75648208601e22b54535a2\", element=\"4359ef56-6c48-4257-9ce1-8acb96a9020d\")>, <selenium.webdriver.remote.webelement.WebElement (session=\"e7121b6c8e75648208601e22b54535a2\", element=\"5f9548a3-c3db-4b02-b093-0846c0335f89\")>, <selenium.webdriver.remote.webelement.WebElement (session=\"e7121b6c8e75648208601e22b54535a2\", element=\"36d81e35-cffb-4b65-90ab-46189e7a1e0f\")>, <selenium.webdriver.remote.webelement.WebElement (session=\"e7121b6c8e75648208601e22b54535a2\", element=\"a6c20473-29ed-4677-aeec-d7b0b0a5974b\")>, <selenium.webdriver.remote.webelement.WebElement (session=\"e7121b6c8e75648208601e22b54535a2\", element=\"eba61f5e-4a8b-4659-90cc-a4936659af46\")>, <selenium.webdriver.remote.webelement.WebElement (session=\"e7121b6c8e75648208601e22b54535a2\", element=\"dcbf3099-29fa-49e6-88db-7be7e6661b16\")>, <selenium.webdriver.remote.webelement.WebElement (session=\"e7121b6c8e75648208601e22b54535a2\", element=\"0ea11f1e-4758-41e0-bdb4-0f77d4fcea96\")>, <selenium.webdriver.remote.webelement.WebElement (session=\"e7121b6c8e75648208601e22b54535a2\", element=\"eaabf359-b7d2-442e-88ea-bae94048a5f9\")>, <selenium.webdriver.remote.webelement.WebElement (session=\"e7121b6c8e75648208601e22b54535a2\", element=\"69203052-d4b6-4921-be84-498ae3b1856c\")>, <selenium.webdriver.remote.webelement.WebElement (session=\"e7121b6c8e75648208601e22b54535a2\", element=\"df49d68c-1ef8-4228-9f49-fd4be11975ba\")>, <selenium.webdriver.remote.webelement.WebElement (session=\"e7121b6c8e75648208601e22b54535a2\", element=\"290ea766-a2de-4104-b712-5b5a7c4893a4\")>, <selenium.webdriver.remote.webelement.WebElement (session=\"e7121b6c8e75648208601e22b54535a2\", element=\"7e0e904b-6c70-4ef6-895a-6ebac1f017cd\")>, <selenium.webdriver.remote.webelement.WebElement (session=\"e7121b6c8e75648208601e22b54535a2\", element=\"30adcfc0-d20f-47c5-90a8-a19a0d431f39\")>, <selenium.webdriver.remote.webelement.WebElement (session=\"e7121b6c8e75648208601e22b54535a2\", element=\"eef61fc9-2ded-4c7d-abf7-0c674f9a341a\")>, <selenium.webdriver.remote.webelement.WebElement (session=\"e7121b6c8e75648208601e22b54535a2\", element=\"19a55e2c-a457-4c2f-9f89-97ad74ff3cda\")>, <selenium.webdriver.remote.webelement.WebElement (session=\"e7121b6c8e75648208601e22b54535a2\", element=\"efa0fab7-35ce-4365-b797-e1184e139c99\")>, <selenium.webdriver.remote.webelement.WebElement (session=\"e7121b6c8e75648208601e22b54535a2\", element=\"6e1e3585-5994-4019-a513-09c075c05bd8\")>, <selenium.webdriver.remote.webelement.WebElement (session=\"e7121b6c8e75648208601e22b54535a2\", element=\"51b55be4-968f-48be-b2a7-3c474533129c\")>, <selenium.webdriver.remote.webelement.WebElement (session=\"e7121b6c8e75648208601e22b54535a2\", element=\"c822f1da-df34-4739-98f7-1927b41a1b11\")>, <selenium.webdriver.remote.webelement.WebElement (session=\"e7121b6c8e75648208601e22b54535a2\", element=\"fe28e7fa-0e94-472b-908c-3f15f57c6c12\")>, <selenium.webdriver.remote.webelement.WebElement (session=\"e7121b6c8e75648208601e22b54535a2\", element=\"1bc9dbeb-2675-4f2d-9c75-32176c0ef6e4\")>, <selenium.webdriver.remote.webelement.WebElement (session=\"e7121b6c8e75648208601e22b54535a2\", element=\"42865626-ac2e-4da6-9503-cc9b2b006e20\")>, <selenium.webdriver.remote.webelement.WebElement (session=\"e7121b6c8e75648208601e22b54535a2\", element=\"d67d374c-480f-414d-8b3f-b536c5c10f37\")>, <selenium.webdriver.remote.webelement.WebElement (session=\"e7121b6c8e75648208601e22b54535a2\", element=\"381571ad-b8cb-4fd6-8568-3ec21067278f\")>, <selenium.webdriver.remote.webelement.WebElement (session=\"e7121b6c8e75648208601e22b54535a2\", element=\"ec577ac4-d144-41ea-96b7-399690e46c97\")>, <selenium.webdriver.remote.webelement.WebElement (session=\"e7121b6c8e75648208601e22b54535a2\", element=\"c6a7ff78-b119-4c88-9cf2-55c2547b0c12\")>, <selenium.webdriver.remote.webelement.WebElement (session=\"e7121b6c8e75648208601e22b54535a2\", element=\"0c62a72f-1f05-420b-b3ef-88490286d224\")>, <selenium.webdriver.remote.webelement.WebElement (session=\"e7121b6c8e75648208601e22b54535a2\", element=\"c33af4a8-c804-42cb-8fcf-4180e97a10cc\")>, <selenium.webdriver.remote.webelement.WebElement (session=\"e7121b6c8e75648208601e22b54535a2\", element=\"e53d6fbe-be79-44e7-b7f4-2f711c6d2091\")>, <selenium.webdriver.remote.webelement.WebElement (session=\"e7121b6c8e75648208601e22b54535a2\", element=\"13309eed-239e-4b3e-b7b0-ad04726976b7\")>, <selenium.webdriver.remote.webelement.WebElement (session=\"e7121b6c8e75648208601e22b54535a2\", element=\"4588338b-9fa5-480b-90fe-a4b947eda60b\")>, <selenium.webdriver.remote.webelement.WebElement (session=\"e7121b6c8e75648208601e22b54535a2\", element=\"284ee43e-9816-4e38-8e7a-570aa9d816da\")>, <selenium.webdriver.remote.webelement.WebElement (session=\"e7121b6c8e75648208601e22b54535a2\", element=\"83606eb1-2bd4-40d6-a6ac-94139da3b3bf\")>, <selenium.webdriver.remote.webelement.WebElement (session=\"e7121b6c8e75648208601e22b54535a2\", element=\"b36854f0-23ce-4915-98a3-667ebd19e3ab\")>, <selenium.webdriver.remote.webelement.WebElement (session=\"e7121b6c8e75648208601e22b54535a2\", element=\"2f4f5326-49a7-4ba4-8c67-1e5ca93a61b2\")>, <selenium.webdriver.remote.webelement.WebElement (session=\"e7121b6c8e75648208601e22b54535a2\", element=\"b74e3ef9-c7ba-4c2f-8f03-6444dfb47439\")>, <selenium.webdriver.remote.webelement.WebElement (session=\"e7121b6c8e75648208601e22b54535a2\", element=\"2421c7b3-10ac-4c6b-bd4f-4663ccc88692\")>, <selenium.webdriver.remote.webelement.WebElement (session=\"e7121b6c8e75648208601e22b54535a2\", element=\"0a69e6f7-5316-448c-9e8d-7006a06fc4dd\")>, <selenium.webdriver.remote.webelement.WebElement (session=\"e7121b6c8e75648208601e22b54535a2\", element=\"7a69e5f1-a5b1-4db9-b43e-b491b8a033b3\")>, <selenium.webdriver.remote.webelement.WebElement (session=\"e7121b6c8e75648208601e22b54535a2\", element=\"6e506fd1-83ef-404e-9764-63a3a9ce4ffb\")>, <selenium.webdriver.remote.webelement.WebElement (session=\"e7121b6c8e75648208601e22b54535a2\", element=\"557a81be-e33c-4a37-a354-dd21574af87e\")>, <selenium.webdriver.remote.webelement.WebElement (session=\"e7121b6c8e75648208601e22b54535a2\", element=\"b9d7e921-7a47-47e9-a4f7-f96b4a8530a8\")>, <selenium.webdriver.remote.webelement.WebElement (session=\"e7121b6c8e75648208601e22b54535a2\", element=\"9140be3a-29a1-4c31-a978-e1b1fd9e01fd\")>, <selenium.webdriver.remote.webelement.WebElement (session=\"e7121b6c8e75648208601e22b54535a2\", element=\"9529e3cd-3a22-4d5c-9588-0f4f72e23517\")>, <selenium.webdriver.remote.webelement.WebElement (session=\"e7121b6c8e75648208601e22b54535a2\", element=\"b988ccf1-7ecb-42f9-bccc-f60f6b45a6d7\")>, <selenium.webdriver.remote.webelement.WebElement (session=\"e7121b6c8e75648208601e22b54535a2\", element=\"ed6fe14e-d349-442c-b77a-3047d5e1e94b\")>, <selenium.webdriver.remote.webelement.WebElement (session=\"e7121b6c8e75648208601e22b54535a2\", element=\"c0a85c2d-2f70-4546-8e94-6dc889d78beb\")>, <selenium.webdriver.remote.webelement.WebElement (session=\"e7121b6c8e75648208601e22b54535a2\", element=\"cd54be38-aff7-44ad-b84c-e31f40049b09\")>, <selenium.webdriver.remote.webelement.WebElement (session=\"e7121b6c8e75648208601e22b54535a2\", element=\"d9cad786-499b-409f-abc7-a36f510802dd\")>, <selenium.webdriver.remote.webelement.WebElement (session=\"e7121b6c8e75648208601e22b54535a2\", element=\"2e8354c5-ed31-4676-a6fb-4cc2e288f5dd\")>, <selenium.webdriver.remote.webelement.WebElement (session=\"e7121b6c8e75648208601e22b54535a2\", element=\"60ff67e7-942d-427e-ac7e-d61f5887712a\")>, <selenium.webdriver.remote.webelement.WebElement (session=\"e7121b6c8e75648208601e22b54535a2\", element=\"aa378419-602f-4fe4-ba76-2b89745f814f\")>, <selenium.webdriver.remote.webelement.WebElement (session=\"e7121b6c8e75648208601e22b54535a2\", element=\"2a799c15-0274-4a54-8018-d23cba26feba\")>, <selenium.webdriver.remote.webelement.WebElement (session=\"e7121b6c8e75648208601e22b54535a2\", element=\"d53cf9c6-4504-4b84-b47e-422580367eb4\")>, <selenium.webdriver.remote.webelement.WebElement (session=\"e7121b6c8e75648208601e22b54535a2\", element=\"fc90e566-b314-4e48-b8ed-87bcca4d707a\")>, <selenium.webdriver.remote.webelement.WebElement (session=\"e7121b6c8e75648208601e22b54535a2\", element=\"f1a62253-775e-4b19-9d80-89950fe82b0c\")>, <selenium.webdriver.remote.webelement.WebElement (session=\"e7121b6c8e75648208601e22b54535a2\", element=\"4a7b6e4f-672e-4a46-b511-84b8cb1ed354\")>, <selenium.webdriver.remote.webelement.WebElement (session=\"e7121b6c8e75648208601e22b54535a2\", element=\"08e45d74-1cac-4be2-a213-80152d4cc884\")>, <selenium.webdriver.remote.webelement.WebElement (session=\"e7121b6c8e75648208601e22b54535a2\", element=\"ab1eb8cf-89ea-4c34-ba20-0f1d5bb00d5f\")>, <selenium.webdriver.remote.webelement.WebElement (session=\"e7121b6c8e75648208601e22b54535a2\", element=\"27c9f0c6-3833-4066-87de-87d1267fc448\")>, <selenium.webdriver.remote.webelement.WebElement (session=\"e7121b6c8e75648208601e22b54535a2\", element=\"be45c4bf-b9f9-47f7-a2e4-4df94b06db4f\")>, <selenium.webdriver.remote.webelement.WebElement (session=\"e7121b6c8e75648208601e22b54535a2\", element=\"a60791e0-a835-4fcf-920e-dbb42e315e6c\")>, <selenium.webdriver.remote.webelement.WebElement (session=\"e7121b6c8e75648208601e22b54535a2\", element=\"84e4210d-1f89-46d3-be10-fd704755ffec\")>, <selenium.webdriver.remote.webelement.WebElement (session=\"e7121b6c8e75648208601e22b54535a2\", element=\"a4441fc8-414d-443f-980e-035f91d375fb\")>, <selenium.webdriver.remote.webelement.WebElement (session=\"e7121b6c8e75648208601e22b54535a2\", element=\"c11a5c8c-11ad-41f5-aa9a-dd7b251f153b\")>, <selenium.webdriver.remote.webelement.WebElement (session=\"e7121b6c8e75648208601e22b54535a2\", element=\"3c74a45b-9330-451c-b5b3-a30a74dcb754\")>, <selenium.webdriver.remote.webelement.WebElement (session=\"e7121b6c8e75648208601e22b54535a2\", element=\"e66953b4-8f4a-4885-aa90-48ae15b2dd30\")>, <selenium.webdriver.remote.webelement.WebElement (session=\"e7121b6c8e75648208601e22b54535a2\", element=\"aa42d1da-3df2-4a2c-baed-5cfa723ae975\")>, <selenium.webdriver.remote.webelement.WebElement (session=\"e7121b6c8e75648208601e22b54535a2\", element=\"20910088-f3f9-4bfb-b419-ccd78d0a188d\")>, <selenium.webdriver.remote.webelement.WebElement (session=\"e7121b6c8e75648208601e22b54535a2\", element=\"13b45649-a7e1-4a8f-8d8e-dab11e3ea97d\")>, <selenium.webdriver.remote.webelement.WebElement (session=\"e7121b6c8e75648208601e22b54535a2\", element=\"1e92c997-a7dc-49d3-a2cc-4414a90fd7d7\")>, <selenium.webdriver.remote.webelement.WebElement (session=\"e7121b6c8e75648208601e22b54535a2\", element=\"2e02e513-b0eb-4234-a5e6-bff2e2940a91\")>, <selenium.webdriver.remote.webelement.WebElement (session=\"e7121b6c8e75648208601e22b54535a2\", element=\"f91e3ad6-2b37-4a8c-8bc4-efd139293215\")>, <selenium.webdriver.remote.webelement.WebElement (session=\"e7121b6c8e75648208601e22b54535a2\", element=\"11067b8a-d563-425c-82af-673256dbbc03\")>, <selenium.webdriver.remote.webelement.WebElement (session=\"e7121b6c8e75648208601e22b54535a2\", element=\"118eef4e-f200-4ffc-812e-9c941d657021\")>, <selenium.webdriver.remote.webelement.WebElement (session=\"e7121b6c8e75648208601e22b54535a2\", element=\"7b442cbc-3503-4f66-89fb-508985af6f5e\")>, <selenium.webdriver.remote.webelement.WebElement (session=\"e7121b6c8e75648208601e22b54535a2\", element=\"f8fbbb60-62c1-42e7-8700-876157282cb0\")>, <selenium.webdriver.remote.webelement.WebElement (session=\"e7121b6c8e75648208601e22b54535a2\", element=\"072653c0-6ad9-4643-b5b6-a710e14f8987\")>, <selenium.webdriver.remote.webelement.WebElement (session=\"e7121b6c8e75648208601e22b54535a2\", element=\"defaec1f-6bb5-4e38-a419-535eaea43394\")>, <selenium.webdriver.remote.webelement.WebElement (session=\"e7121b6c8e75648208601e22b54535a2\", element=\"5de40b18-da98-4574-8c3d-00b904bddca1\")>, <selenium.webdriver.remote.webelement.WebElement (session=\"e7121b6c8e75648208601e22b54535a2\", element=\"5d82f3f8-7c5c-4cb6-98f8-0265fc3297d2\")>, <selenium.webdriver.remote.webelement.WebElement (session=\"e7121b6c8e75648208601e22b54535a2\", element=\"53d0ad17-d422-42d6-baad-037737702801\")>, <selenium.webdriver.remote.webelement.WebElement (session=\"e7121b6c8e75648208601e22b54535a2\", element=\"127a9678-d0af-48e0-b589-5f9fbc46c61e\")>, <selenium.webdriver.remote.webelement.WebElement (session=\"e7121b6c8e75648208601e22b54535a2\", element=\"90afa958-fc82-4773-9242-fba59fb51311\")>, <selenium.webdriver.remote.webelement.WebElement (session=\"e7121b6c8e75648208601e22b54535a2\", element=\"d6700006-ba3d-41fd-ab40-0f48f8bf80c1\")>, <selenium.webdriver.remote.webelement.WebElement (session=\"e7121b6c8e75648208601e22b54535a2\", element=\"d5c5f218-9c08-4770-b13c-5c5ee1463184\")>, <selenium.webdriver.remote.webelement.WebElement (session=\"e7121b6c8e75648208601e22b54535a2\", element=\"3e120f04-a663-4b6b-9c73-8802c1c21d83\")>, <selenium.webdriver.remote.webelement.WebElement (session=\"e7121b6c8e75648208601e22b54535a2\", element=\"6e546e86-fd86-425e-ae16-a6f3bae4cd61\")>, <selenium.webdriver.remote.webelement.WebElement (session=\"e7121b6c8e75648208601e22b54535a2\", element=\"4f71e845-8e9c-402b-9d36-da2f3c75d485\")>, <selenium.webdriver.remote.webelement.WebElement (session=\"e7121b6c8e75648208601e22b54535a2\", element=\"9dd113c4-a1cc-4ad6-a8a3-2951506fa93a\")>, <selenium.webdriver.remote.webelement.WebElement (session=\"e7121b6c8e75648208601e22b54535a2\", element=\"5afa88e7-d5b9-47b7-85b3-e12c11c12bf8\")>, <selenium.webdriver.remote.webelement.WebElement (session=\"e7121b6c8e75648208601e22b54535a2\", element=\"c84ee339-99b6-410b-8246-a86e94e75b7f\")>, <selenium.webdriver.remote.webelement.WebElement (session=\"e7121b6c8e75648208601e22b54535a2\", element=\"c20a52f1-9dec-4571-b7ab-ad8c2fded79a\")>, <selenium.webdriver.remote.webelement.WebElement (session=\"e7121b6c8e75648208601e22b54535a2\", element=\"c8a23dd5-df96-4556-a6b1-8e8266879a2f\")>, <selenium.webdriver.remote.webelement.WebElement (session=\"e7121b6c8e75648208601e22b54535a2\", element=\"d4e88318-48df-4fcf-b080-c822c7025a6e\")>, <selenium.webdriver.remote.webelement.WebElement (session=\"e7121b6c8e75648208601e22b54535a2\", element=\"e5bc8a2e-d5ce-46b9-a050-3083adf84252\")>, <selenium.webdriver.remote.webelement.WebElement (session=\"e7121b6c8e75648208601e22b54535a2\", element=\"8c9aa1c3-ffa0-4a40-a6f8-52f4a64411bc\")>, <selenium.webdriver.remote.webelement.WebElement (session=\"e7121b6c8e75648208601e22b54535a2\", element=\"ff6e29d4-1d86-4ae6-8d71-2363e0d57f39\")>, <selenium.webdriver.remote.webelement.WebElement (session=\"e7121b6c8e75648208601e22b54535a2\", element=\"ecb3ea0e-24f8-4a51-a866-7ff471e96d1f\")>, <selenium.webdriver.remote.webelement.WebElement (session=\"e7121b6c8e75648208601e22b54535a2\", element=\"5897887b-bb08-476a-a962-0ff1c88b23cd\")>, <selenium.webdriver.remote.webelement.WebElement (session=\"e7121b6c8e75648208601e22b54535a2\", element=\"29c5a44f-6fb5-4b66-a069-df5e34a211e9\")>, <selenium.webdriver.remote.webelement.WebElement (session=\"e7121b6c8e75648208601e22b54535a2\", element=\"ce6f747c-c3ce-44e6-ad1d-eb92139dc710\")>, <selenium.webdriver.remote.webelement.WebElement (session=\"e7121b6c8e75648208601e22b54535a2\", element=\"7f34d8aa-e010-4a05-a0c4-1fae87c8fb9c\")>, <selenium.webdriver.remote.webelement.WebElement (session=\"e7121b6c8e75648208601e22b54535a2\", element=\"3f6359b1-665f-4c86-87d3-72773a5b739c\")>, <selenium.webdriver.remote.webelement.WebElement (session=\"e7121b6c8e75648208601e22b54535a2\", element=\"934def44-5e11-4e00-91ff-a1d85a48e603\")>, <selenium.webdriver.remote.webelement.WebElement (session=\"e7121b6c8e75648208601e22b54535a2\", element=\"ed58246d-eb4a-4494-8b70-798e7e1dea33\")>, <selenium.webdriver.remote.webelement.WebElement (session=\"e7121b6c8e75648208601e22b54535a2\", element=\"2f4dfbfd-f6e8-43b1-b6f6-3c76df83dc32\")>, <selenium.webdriver.remote.webelement.WebElement (session=\"e7121b6c8e75648208601e22b54535a2\", element=\"09a83bd1-07cf-4e97-82f7-037c2954174e\")>, <selenium.webdriver.remote.webelement.WebElement (session=\"e7121b6c8e75648208601e22b54535a2\", element=\"2306e3f5-f4bb-40b8-be51-f96ef47cb61d\")>, <selenium.webdriver.remote.webelement.WebElement (session=\"e7121b6c8e75648208601e22b54535a2\", element=\"5d0c65c5-b915-4396-9e5c-3382319c8e2a\")>, <selenium.webdriver.remote.webelement.WebElement (session=\"e7121b6c8e75648208601e22b54535a2\", element=\"dd936c08-0708-4679-824d-3edaa54e30fc\")>, <selenium.webdriver.remote.webelement.WebElement (session=\"e7121b6c8e75648208601e22b54535a2\", element=\"77aeba75-f7a9-45dd-9fcf-8e675f900b74\")>, <selenium.webdriver.remote.webelement.WebElement (session=\"e7121b6c8e75648208601e22b54535a2\", element=\"3622a1fd-1c56-469f-bcf3-025f82dab626\")>, <selenium.webdriver.remote.webelement.WebElement (session=\"e7121b6c8e75648208601e22b54535a2\", element=\"536d5306-5281-4f15-8683-6e289182f038\")>, <selenium.webdriver.remote.webelement.WebElement (session=\"e7121b6c8e75648208601e22b54535a2\", element=\"3798d062-bbd8-4953-a6da-231a89c52ac0\")>, <selenium.webdriver.remote.webelement.WebElement (session=\"e7121b6c8e75648208601e22b54535a2\", element=\"b54ed189-963e-4370-9f03-426e13ccafa7\")>, <selenium.webdriver.remote.webelement.WebElement (session=\"e7121b6c8e75648208601e22b54535a2\", element=\"45fe0c51-f13d-4f2c-bc62-647a32a2e729\")>, <selenium.webdriver.remote.webelement.WebElement (session=\"e7121b6c8e75648208601e22b54535a2\", element=\"35a3a48b-b1bc-453d-9d6e-37a235715d61\")>, <selenium.webdriver.remote.webelement.WebElement (session=\"e7121b6c8e75648208601e22b54535a2\", element=\"f8c54f8a-dc17-46a2-a77f-833c208ca285\")>, <selenium.webdriver.remote.webelement.WebElement (session=\"e7121b6c8e75648208601e22b54535a2\", element=\"a91bf504-a9bd-4115-bf68-68ad5ef36300\")>, <selenium.webdriver.remote.webelement.WebElement (session=\"e7121b6c8e75648208601e22b54535a2\", element=\"c2eb439e-c992-4b5d-a7c2-3feb8034ea62\")>, <selenium.webdriver.remote.webelement.WebElement (session=\"e7121b6c8e75648208601e22b54535a2\", element=\"155e4084-58b7-4f8c-91e4-47a2364b6b97\")>, <selenium.webdriver.remote.webelement.WebElement (session=\"e7121b6c8e75648208601e22b54535a2\", element=\"d266b5f3-2c7e-4332-b0de-db9ac8fc3cef\")>, <selenium.webdriver.remote.webelement.WebElement (session=\"e7121b6c8e75648208601e22b54535a2\", element=\"bf419da8-2228-4afd-81eb-a7efefb5e1c6\")>, <selenium.webdriver.remote.webelement.WebElement (session=\"e7121b6c8e75648208601e22b54535a2\", element=\"d8a38dc3-f660-41ca-9e62-042dbc6a8164\")>, <selenium.webdriver.remote.webelement.WebElement (session=\"e7121b6c8e75648208601e22b54535a2\", element=\"fc614526-c2b2-421e-8fd0-7ef7f763d6a5\")>, <selenium.webdriver.remote.webelement.WebElement (session=\"e7121b6c8e75648208601e22b54535a2\", element=\"2470e8e7-f77d-40c4-affc-59efaa6f2133\")>, <selenium.webdriver.remote.webelement.WebElement (session=\"e7121b6c8e75648208601e22b54535a2\", element=\"73758ec5-6c93-41a7-94a7-2849ee14238e\")>, <selenium.webdriver.remote.webelement.WebElement (session=\"e7121b6c8e75648208601e22b54535a2\", element=\"74584c1b-cce7-4c01-88e5-fd4825850327\")>, <selenium.webdriver.remote.webelement.WebElement (session=\"e7121b6c8e75648208601e22b54535a2\", element=\"0353d83e-777c-4df6-8fa6-9a28fdef77b3\")>, <selenium.webdriver.remote.webelement.WebElement (session=\"e7121b6c8e75648208601e22b54535a2\", element=\"507ea4db-8079-4bef-94c2-8b06aebd6f2f\")>, <selenium.webdriver.remote.webelement.WebElement (session=\"e7121b6c8e75648208601e22b54535a2\", element=\"64769f10-4169-4033-ba4e-50f73972a828\")>, <selenium.webdriver.remote.webelement.WebElement (session=\"e7121b6c8e75648208601e22b54535a2\", element=\"3f54a0c0-9e6c-4771-989b-993374c98dd6\")>, <selenium.webdriver.remote.webelement.WebElement (session=\"e7121b6c8e75648208601e22b54535a2\", element=\"8c39df43-58f4-4d30-a0d5-46ca6c9b89a3\")>, <selenium.webdriver.remote.webelement.WebElement (session=\"e7121b6c8e75648208601e22b54535a2\", element=\"dea2f48e-3965-484e-bfc6-30217b753cb3\")>, <selenium.webdriver.remote.webelement.WebElement (session=\"e7121b6c8e75648208601e22b54535a2\", element=\"28a4d1b6-4649-4a4c-9bb1-05d6d3366d32\")>, <selenium.webdriver.remote.webelement.WebElement (session=\"e7121b6c8e75648208601e22b54535a2\", element=\"6276f3e5-b33c-4973-8122-80a5d99c8a67\")>, <selenium.webdriver.remote.webelement.WebElement (session=\"e7121b6c8e75648208601e22b54535a2\", element=\"508ceaf2-0633-48fd-b40a-8a6fddff2304\")>, <selenium.webdriver.remote.webelement.WebElement (session=\"e7121b6c8e75648208601e22b54535a2\", element=\"cd3a90c9-de45-4091-96db-764529f68f4d\")>, <selenium.webdriver.remote.webelement.WebElement (session=\"e7121b6c8e75648208601e22b54535a2\", element=\"4b46816b-cb2d-4ea5-80f9-e3ff2b8acfb7\")>, <selenium.webdriver.remote.webelement.WebElement (session=\"e7121b6c8e75648208601e22b54535a2\", element=\"98943ab0-ad23-4a16-ab41-907c3f9fcfea\")>, <selenium.webdriver.remote.webelement.WebElement (session=\"e7121b6c8e75648208601e22b54535a2\", element=\"5f40bc83-0f4c-43b5-b2b1-f55cfd3fdf88\")>, <selenium.webdriver.remote.webelement.WebElement (session=\"e7121b6c8e75648208601e22b54535a2\", element=\"22dc10f4-d4a6-4b47-a952-e26cb71205fe\")>, <selenium.webdriver.remote.webelement.WebElement (session=\"e7121b6c8e75648208601e22b54535a2\", element=\"62685414-9239-4195-a599-3c76527932b0\")>, <selenium.webdriver.remote.webelement.WebElement (session=\"e7121b6c8e75648208601e22b54535a2\", element=\"ca640e72-3048-4682-acb1-e9752d9b3688\")>, <selenium.webdriver.remote.webelement.WebElement (session=\"e7121b6c8e75648208601e22b54535a2\", element=\"4e5cc883-ee56-4f67-b394-2f452ba698da\")>, <selenium.webdriver.remote.webelement.WebElement (session=\"e7121b6c8e75648208601e22b54535a2\", element=\"ec4d8de0-2ff4-4411-a7ef-9d552becff7e\")>, <selenium.webdriver.remote.webelement.WebElement (session=\"e7121b6c8e75648208601e22b54535a2\", element=\"3e63c90d-a393-476e-987f-d2baf15c1c9f\")>, <selenium.webdriver.remote.webelement.WebElement (session=\"e7121b6c8e75648208601e22b54535a2\", element=\"11da1f5b-25a4-4268-b0d5-06cd99614dae\")>, <selenium.webdriver.remote.webelement.WebElement (session=\"e7121b6c8e75648208601e22b54535a2\", element=\"f621e9d4-b7b8-4fd3-b445-857acf40ba73\")>, <selenium.webdriver.remote.webelement.WebElement (session=\"e7121b6c8e75648208601e22b54535a2\", element=\"ba01602b-3202-40c3-9563-d694cc212466\")>, <selenium.webdriver.remote.webelement.WebElement (session=\"e7121b6c8e75648208601e22b54535a2\", element=\"0943c892-11cc-48f9-9270-ba05d39600a4\")>, <selenium.webdriver.remote.webelement.WebElement (session=\"e7121b6c8e75648208601e22b54535a2\", element=\"d93924d4-07da-4485-b981-3b7a1efa1f3a\")>, <selenium.webdriver.remote.webelement.WebElement (session=\"e7121b6c8e75648208601e22b54535a2\", element=\"36a25da6-925b-4124-8a02-70056c196608\")>, <selenium.webdriver.remote.webelement.WebElement (session=\"e7121b6c8e75648208601e22b54535a2\", element=\"840fe522-e546-49c3-a593-1001435d0451\")>, <selenium.webdriver.remote.webelement.WebElement (session=\"e7121b6c8e75648208601e22b54535a2\", element=\"9f294554-5b22-4409-9444-651ac19792b3\")>, <selenium.webdriver.remote.webelement.WebElement (session=\"e7121b6c8e75648208601e22b54535a2\", element=\"b18aa927-5840-4d1c-80e1-b6fa6e01093d\")>, <selenium.webdriver.remote.webelement.WebElement (session=\"e7121b6c8e75648208601e22b54535a2\", element=\"dcd88f25-f868-4fc7-8f3f-d41fb46c365f\")>, <selenium.webdriver.remote.webelement.WebElement (session=\"e7121b6c8e75648208601e22b54535a2\", element=\"f5d9beb3-b5eb-4905-bec3-d12ddb03e638\")>, <selenium.webdriver.remote.webelement.WebElement (session=\"e7121b6c8e75648208601e22b54535a2\", element=\"9d8d0439-4758-4f9e-9f95-1a309eea3a51\")>, <selenium.webdriver.remote.webelement.WebElement (session=\"e7121b6c8e75648208601e22b54535a2\", element=\"d409cc75-2688-4877-af81-97891d714f09\")>, <selenium.webdriver.remote.webelement.WebElement (session=\"e7121b6c8e75648208601e22b54535a2\", element=\"f2fd95e0-3886-4db8-afd8-ebee6c40a547\")>, <selenium.webdriver.remote.webelement.WebElement (session=\"e7121b6c8e75648208601e22b54535a2\", element=\"c748c990-6955-4ebf-be83-f649ef7795de\")>, <selenium.webdriver.remote.webelement.WebElement (session=\"e7121b6c8e75648208601e22b54535a2\", element=\"cb29de8e-8532-4cd2-a8e5-9560d1984a5c\")>, <selenium.webdriver.remote.webelement.WebElement (session=\"e7121b6c8e75648208601e22b54535a2\", element=\"1c92dc54-a392-4ea3-b237-f8fbc38f5e15\")>, <selenium.webdriver.remote.webelement.WebElement (session=\"e7121b6c8e75648208601e22b54535a2\", element=\"b6a6f739-c911-4a4e-a2f2-caa5d59c4205\")>, <selenium.webdriver.remote.webelement.WebElement (session=\"e7121b6c8e75648208601e22b54535a2\", element=\"ad9538ae-5bf6-471c-aab6-7c15f7bb1e35\")>, <selenium.webdriver.remote.webelement.WebElement (session=\"e7121b6c8e75648208601e22b54535a2\", element=\"9fddbff7-05d2-4399-b211-55dbe896a994\")>, <selenium.webdriver.remote.webelement.WebElement (session=\"e7121b6c8e75648208601e22b54535a2\", element=\"88170b96-3829-40bf-8f49-a605d943beba\")>, <selenium.webdriver.remote.webelement.WebElement (session=\"e7121b6c8e75648208601e22b54535a2\", element=\"05b0f35f-38ee-4313-b385-d89767e930ad\")>, <selenium.webdriver.remote.webelement.WebElement (session=\"e7121b6c8e75648208601e22b54535a2\", element=\"4acb9a80-158f-401f-ba48-544d4382e29b\")>, <selenium.webdriver.remote.webelement.WebElement (session=\"e7121b6c8e75648208601e22b54535a2\", element=\"fdeb3c09-ed42-41b0-ba84-dc81f6d2d2a3\")>, <selenium.webdriver.remote.webelement.WebElement (session=\"e7121b6c8e75648208601e22b54535a2\", element=\"fa5972cd-f480-4bc0-9a1f-f227016de2ea\")>, <selenium.webdriver.remote.webelement.WebElement (session=\"e7121b6c8e75648208601e22b54535a2\", element=\"80bebf6c-a090-419e-8bd0-b7ddabe190f2\")>, <selenium.webdriver.remote.webelement.WebElement (session=\"e7121b6c8e75648208601e22b54535a2\", element=\"a7e2e58f-60a2-4d54-8c2d-51c3f6349208\")>, <selenium.webdriver.remote.webelement.WebElement (session=\"e7121b6c8e75648208601e22b54535a2\", element=\"d467e5ef-851e-41ac-934e-c3cba5b9b1b6\")>, <selenium.webdriver.remote.webelement.WebElement (session=\"e7121b6c8e75648208601e22b54535a2\", element=\"566c9b14-091c-4779-993c-8a9b7e6bb884\")>, <selenium.webdriver.remote.webelement.WebElement (session=\"e7121b6c8e75648208601e22b54535a2\", element=\"98bc9848-f153-4eb8-ad9d-bddc761b1e9d\")>, <selenium.webdriver.remote.webelement.WebElement (session=\"e7121b6c8e75648208601e22b54535a2\", element=\"526b1516-a971-4985-854d-ed1cfc5ada52\")>, <selenium.webdriver.remote.webelement.WebElement (session=\"e7121b6c8e75648208601e22b54535a2\", element=\"cb4f087f-d39b-420c-a068-e64ae88390f1\")>, <selenium.webdriver.remote.webelement.WebElement (session=\"e7121b6c8e75648208601e22b54535a2\", element=\"1febeb07-2ea7-4bea-970c-078c9298134e\")>, <selenium.webdriver.remote.webelement.WebElement (session=\"e7121b6c8e75648208601e22b54535a2\", element=\"ad463c25-adb9-4ed0-b70d-702f37344264\")>, <selenium.webdriver.remote.webelement.WebElement (session=\"e7121b6c8e75648208601e22b54535a2\", element=\"762615a2-821e-4a44-833e-c375c9f59501\")>, <selenium.webdriver.remote.webelement.WebElement (session=\"e7121b6c8e75648208601e22b54535a2\", element=\"c1429ae4-97d4-4a27-b28f-0d14e557d99f\")>, <selenium.webdriver.remote.webelement.WebElement (session=\"e7121b6c8e75648208601e22b54535a2\", element=\"73dcce60-19ba-4daa-a875-c418c9e4214e\")>, <selenium.webdriver.remote.webelement.WebElement (session=\"e7121b6c8e75648208601e22b54535a2\", element=\"712d5365-9a6c-4a73-9fe4-4fcf8909afac\")>, <selenium.webdriver.remote.webelement.WebElement (session=\"e7121b6c8e75648208601e22b54535a2\", element=\"658f196a-ea09-4e8e-ba5c-265eb374e586\")>, <selenium.webdriver.remote.webelement.WebElement (session=\"e7121b6c8e75648208601e22b54535a2\", element=\"19da729b-4300-4db8-9870-eebb7875c048\")>, <selenium.webdriver.remote.webelement.WebElement (session=\"e7121b6c8e75648208601e22b54535a2\", element=\"32286af2-9bea-48ac-b672-c2d8c2da7799\")>, <selenium.webdriver.remote.webelement.WebElement (session=\"e7121b6c8e75648208601e22b54535a2\", element=\"631151b7-8359-4d1d-ace5-29bdd2b6079a\")>, <selenium.webdriver.remote.webelement.WebElement (session=\"e7121b6c8e75648208601e22b54535a2\", element=\"70e6dea9-f3e5-414b-85f3-036164225ba4\")>, <selenium.webdriver.remote.webelement.WebElement (session=\"e7121b6c8e75648208601e22b54535a2\", element=\"f01298db-591f-4c76-8974-bb850821dbd0\")>, <selenium.webdriver.remote.webelement.WebElement (session=\"e7121b6c8e75648208601e22b54535a2\", element=\"6acbae4d-bd26-4e7e-b74d-6856481aea94\")>, <selenium.webdriver.remote.webelement.WebElement (session=\"e7121b6c8e75648208601e22b54535a2\", element=\"ccd8455e-869a-4a97-866d-f88d34c3f10a\")>, <selenium.webdriver.remote.webelement.WebElement (session=\"e7121b6c8e75648208601e22b54535a2\", element=\"d23e2cd6-10b2-47a6-b3d3-050ff1a9cd2c\")>, <selenium.webdriver.remote.webelement.WebElement (session=\"e7121b6c8e75648208601e22b54535a2\", element=\"580759b1-8630-4d1e-9add-0018b352a0e1\")>, <selenium.webdriver.remote.webelement.WebElement (session=\"e7121b6c8e75648208601e22b54535a2\", element=\"a02facc4-0fe9-43f0-946f-c6689c5c530f\")>, <selenium.webdriver.remote.webelement.WebElement (session=\"e7121b6c8e75648208601e22b54535a2\", element=\"37d0a27a-a649-4101-87a7-42e0663b1bfa\")>, <selenium.webdriver.remote.webelement.WebElement (session=\"e7121b6c8e75648208601e22b54535a2\", element=\"8250e7bb-5dac-4c50-9536-b0e7c4ba9023\")>, <selenium.webdriver.remote.webelement.WebElement (session=\"e7121b6c8e75648208601e22b54535a2\", element=\"5f8615bd-0733-4a98-a0a7-9c7de3fb500a\")>, <selenium.webdriver.remote.webelement.WebElement (session=\"e7121b6c8e75648208601e22b54535a2\", element=\"39730b24-2b85-41b8-a5b4-9efb6db00b52\")>, <selenium.webdriver.remote.webelement.WebElement (session=\"e7121b6c8e75648208601e22b54535a2\", element=\"85123bc3-0783-4769-9acb-1d7e9e6f77c1\")>, <selenium.webdriver.remote.webelement.WebElement (session=\"e7121b6c8e75648208601e22b54535a2\", element=\"9316af4d-f23b-4ec1-89d9-3564565233e7\")>, <selenium.webdriver.remote.webelement.WebElement (session=\"e7121b6c8e75648208601e22b54535a2\", element=\"b1361cdc-0829-47d6-bab9-4e72543bb3b8\")>, <selenium.webdriver.remote.webelement.WebElement (session=\"e7121b6c8e75648208601e22b54535a2\", element=\"b9b023dc-7faa-4481-80db-9084f4669dbe\")>, <selenium.webdriver.remote.webelement.WebElement (session=\"e7121b6c8e75648208601e22b54535a2\", element=\"b7b6ec64-9495-4309-b99f-9663d33b624b\")>, <selenium.webdriver.remote.webelement.WebElement (session=\"e7121b6c8e75648208601e22b54535a2\", element=\"eb460fc8-db4a-4a09-9aba-67a4cc0bd8f2\")>, <selenium.webdriver.remote.webelement.WebElement (session=\"e7121b6c8e75648208601e22b54535a2\", element=\"0d56b561-6676-4749-8ad4-51e9fa2908fe\")>, <selenium.webdriver.remote.webelement.WebElement (session=\"e7121b6c8e75648208601e22b54535a2\", element=\"196394fc-7558-41e5-b7fe-7c8b50047fa2\")>, <selenium.webdriver.remote.webelement.WebElement (session=\"e7121b6c8e75648208601e22b54535a2\", element=\"f7fab82b-554e-408f-81b5-5e3103af76f7\")>, <selenium.webdriver.remote.webelement.WebElement (session=\"e7121b6c8e75648208601e22b54535a2\", element=\"e93cd7b1-1ef3-4f03-bab9-ed7a67df789f\")>, <selenium.webdriver.remote.webelement.WebElement (session=\"e7121b6c8e75648208601e22b54535a2\", element=\"237edc74-2849-49e5-896d-6b87f910c3e2\")>, <selenium.webdriver.remote.webelement.WebElement (session=\"e7121b6c8e75648208601e22b54535a2\", element=\"fb9bdeb7-7526-4895-ba17-62a0f5e1628d\")>, <selenium.webdriver.remote.webelement.WebElement (session=\"e7121b6c8e75648208601e22b54535a2\", element=\"74babfda-8735-4911-b3fd-6adc8e3a7a5f\")>, <selenium.webdriver.remote.webelement.WebElement (session=\"e7121b6c8e75648208601e22b54535a2\", element=\"0f007a9e-0e62-4a07-b2f5-b08fba26efcf\")>, <selenium.webdriver.remote.webelement.WebElement (session=\"e7121b6c8e75648208601e22b54535a2\", element=\"0598c1ca-363f-47ca-ac22-7357bfb4f63f\")>, <selenium.webdriver.remote.webelement.WebElement (session=\"e7121b6c8e75648208601e22b54535a2\", element=\"90132195-c3e3-4813-92a1-d1cdda2f8de0\")>, <selenium.webdriver.remote.webelement.WebElement (session=\"e7121b6c8e75648208601e22b54535a2\", element=\"a8bf4dea-dfcd-47f4-af3c-76a86aab205e\")>, <selenium.webdriver.remote.webelement.WebElement (session=\"e7121b6c8e75648208601e22b54535a2\", element=\"03ac98bf-91b1-4458-910e-8b82e40d6698\")>, <selenium.webdriver.remote.webelement.WebElement (session=\"e7121b6c8e75648208601e22b54535a2\", element=\"225c733b-5ce0-46aa-8386-bfd1c24f8ffd\")>, <selenium.webdriver.remote.webelement.WebElement (session=\"e7121b6c8e75648208601e22b54535a2\", element=\"81cb4b56-44cf-4c08-a9bd-90096847ee10\")>, <selenium.webdriver.remote.webelement.WebElement (session=\"e7121b6c8e75648208601e22b54535a2\", element=\"10bb5c63-821a-4d1b-a455-2dcf3e6c33ea\")>, <selenium.webdriver.remote.webelement.WebElement (session=\"e7121b6c8e75648208601e22b54535a2\", element=\"54eccb99-f028-4a16-8b21-ee932929043b\")>, <selenium.webdriver.remote.webelement.WebElement (session=\"e7121b6c8e75648208601e22b54535a2\", element=\"c1ec058e-7fec-40c0-b210-c30a7777a2cd\")>, <selenium.webdriver.remote.webelement.WebElement (session=\"e7121b6c8e75648208601e22b54535a2\", element=\"976b4676-120e-459e-b936-9c04e43bd417\")>, <selenium.webdriver.remote.webelement.WebElement (session=\"e7121b6c8e75648208601e22b54535a2\", element=\"b39b2e49-60d6-4fe5-9cb0-e7eb14a4e7a5\")>, <selenium.webdriver.remote.webelement.WebElement (session=\"e7121b6c8e75648208601e22b54535a2\", element=\"d30151d0-87a8-40f8-bf38-2163e69aa929\")>, <selenium.webdriver.remote.webelement.WebElement (session=\"e7121b6c8e75648208601e22b54535a2\", element=\"6bbdc19d-5a33-4086-8448-1663cb37a1c3\")>, <selenium.webdriver.remote.webelement.WebElement (session=\"e7121b6c8e75648208601e22b54535a2\", element=\"98e686c5-ce0b-4f61-872a-02456608f14c\")>, <selenium.webdriver.remote.webelement.WebElement (session=\"e7121b6c8e75648208601e22b54535a2\", element=\"b80eed53-703d-4b36-9817-e697fc868b75\")>, <selenium.webdriver.remote.webelement.WebElement (session=\"e7121b6c8e75648208601e22b54535a2\", element=\"cd2fda3d-6d07-45b4-a541-3482c0cf104c\")>, <selenium.webdriver.remote.webelement.WebElement (session=\"e7121b6c8e75648208601e22b54535a2\", element=\"18382607-d43f-4b6e-82d8-abf0d53aa423\")>, <selenium.webdriver.remote.webelement.WebElement (session=\"e7121b6c8e75648208601e22b54535a2\", element=\"8c2f71d9-579c-43fa-a060-15e58e683fc4\")>, <selenium.webdriver.remote.webelement.WebElement (session=\"e7121b6c8e75648208601e22b54535a2\", element=\"d3e023db-deff-4cc6-b6a8-07d3a4d8da04\")>, '1 hour ago', '84 views', '2 hours ago', '1K views', '2 hours ago', '316 views', '2 hours ago', '50 views', '3 hours ago', '1.7K views', '3 hours ago', '238 views', '3 hours ago', '436 views', '4 hours ago', '124 views', '4 hours ago', '121 views', '5 hours ago', '4.2K views', '5 hours ago', '431 views', '6 hours ago', '2.7K views', '6 hours ago', '2K views', '6 hours ago', '347 views', '7 hours ago', '264 views', '7 hours ago', '546 views', '7 hours ago', '6.1K views', '9 hours ago', '284 views', '9 hours ago', '174 views', '9 hours ago', '714 views', '10 hours ago', '13K views', '11 hours ago', '132 views', '11 hours ago', '497 views', '11 hours ago', '111 views', '12 hours ago']\n"
     ]
    }
   ],
   "source": [
    "#cheking details:\n",
    "print(video_views)"
   ]
  },
  {
   "cell_type": "code",
   "execution_count": 396,
   "id": "469b45f5",
   "metadata": {},
   "outputs": [],
   "source": [
    "#Scrapping video_when from the given page\n",
    "when_tags=driver.find_elements(By.XPATH,\"//span[@class='inline-metadata-item style-scope ytd-video-meta-block']\")\n",
    "for i in when_tags[1:50]:\n",
    "    when=i.text\n",
    "    video_when.append(when)\n",
    "    "
   ]
  },
  {
   "cell_type": "code",
   "execution_count": 397,
   "id": "eda38f80",
   "metadata": {},
   "outputs": [
    {
     "data": {
      "text/plain": [
       "98"
      ]
     },
     "execution_count": 397,
     "metadata": {},
     "output_type": "execute_result"
    }
   ],
   "source": [
    "#cheking length:\n",
    "len(video_when)"
   ]
  },
  {
   "cell_type": "code",
   "execution_count": 398,
   "id": "f355c350",
   "metadata": {},
   "outputs": [
    {
     "name": "stdout",
     "output_type": "stream",
     "text": [
      "['Communal violence in Bihar during Ram Navami: Everything that you need to know about Bihar clashes', \"Murder Caught on Camera: CCTV Footage Captures Village Head slained in Maharashtra's Pimpri #cctv\", \"Mark Wood shines with 5-wicket haul as Lucknow Super Giants thrash Delhi Capitals in IPL's 3rd match\", \"Assam: Kejriwal slams Himanta Sarma's 'dirty politics' but invites him for tea at his residence\", 'Karnataka polls: BJP plans at least 20 election rallies of PM Modi', \"Rs 48,20,69,00,00,000 corruption under Congress rule: BJP says in 1st episode of 'Congress Files'\", 'Amit Shah Slams Nitish Kumar: BJP Shuts Doors on Bihar CM !! #bihar #sasaram #amitshah #nitishkumar', \"G20 Meeting to Revolutionize India's Tourism Industry: Minister G Kishan Reddy\", \"Bihar's Sasaram bomb blast: FSL team's investigation unravels details\", \"Arvind Kejriwal raises questions PM Modi's educational qualification, BJP counters\", '#watch Rahul Gandhi vacates official bungalow following defamation conviction, BJP claims victory', \"ISRO's RLV technology proves it's game-changing for space travel\", \"BJP, Shiv Sena hold 'Savarkar Gaurav Yatra': Rahul Gandhi under fire for comments on Savarkar\", \"Uttar Pradesh: Murder accused of Suresh Raina's kin shot dead in encounter\", \"'Savarkar had a scientific outlook and was a progressive’: Sharad Pawar\", 'Bihar: Amit Shah speaks to Governor over Sasaram violence, seeks report', \"Russia assumes UNSC presidency despite Ukraine's anger\", 'Jammu and Kashmir: Candle march held in memory of terror victims', 'ISRO successfully conducts RLV Autonomous Landing Mission test', \"Navjot Singh Sidhu attacks BJP, says 'Democracy in shackles'\", 'Pak Finance Minister Ishaq Dar warns of inflation to increase further', \"'We have never opposed Veer Savarkar', says NCP chief Sharad Pawar\", 'IPL 2023: Royal Challengers Bangalore lock horns against Mumbai Indians', 'G-20 summit: Tripura ready to welcome delegates from member countries', 'IPL 2023 | Rajasthan Royals face Sunrisers Hyderabad in campaign opener', 'Gujarat: Amul milk prices increased by Rs 2 per litre', 'Horoscope, April 2, 2023 | Sunday | आज का राशिफल | Astrological predictions for all zodiac signs', 'FM Sitharaman: Need more transparency in commercial activities for investors to shed ‘hesitation’', 'FM Sitharaman: Need more transparency in commercial activities for investors to shed ‘hesitation’', 'IPL 2023: Punjab Kings win rain-hit match against Kolkata Knight Riders via DLS method', 'Jamiat Ulama-i-Hind opposes same-sex marriages, files petition in the Supreme Court', 'PM Narendra Modi: Some individuals conspiring to tarnish my image; even given ‘supari’ to others', 'Watch: Braille Maps Installed at Kurukshetra Railway Station to Aid Visually Impaired Individuals', 'Toll hiked by 18% on old Pune Mumbai Highway effective 1st April | Travel to be more expensive', 'Toll on Bengaluru-Mysuru expressway rolled back in poll-bound Karnataka', 'In Bihar, two brothers convert petrol bikes into electric bikes by learning from YouTube tutorials', \"Myanmar's Coco Islands witnesses increased military activity\", \"Jaw Dropping Display of Beauty in India's Tulip Garden\", 'Watch: Congress leader Navjot Singh Sidhu released from Patiala Central Jail', 'Ukraine war: Russia identifies India, China as its main allies a day after Finland setback', 'Watch: Full emergency declared at Delhi IGI airport after Dubai-bound plane suffers bird hit', 'Girish Bapat laid to rest | Will Election Commission hold bypoll for Pune seat?', 'COVID in Delhi: No need to panic over cases, says Dr. Shahid Jameel', \"Arvind Kejriwal: People are stunned by Gujarat HC order on PM Modi's degree\", \"Jairam Ramesh: Government's welfare laws are anti-tribal\", \"Watch: Nita Ambani performs at opening of 'Nita Mukesh Ambani cultural centre'\", 'Wait, What? This Village Celebrates Dussehra 6 Months Before Everyone Else...', 'Drunk Swedish man arrested in Mumbai for molesting IndiGo cabin crew', 'Positive news of the week: Tokyo Paralympics hero turns motivational speaker', '1 hour ago', '84 views', '2 hours ago', '1K views', '2 hours ago', '316 views', '2 hours ago', '50 views', '3 hours ago', '1.7K views', '3 hours ago', '238 views', '3 hours ago', '436 views', '4 hours ago', '124 views', '4 hours ago', '121 views', '5 hours ago', '4.2K views', '5 hours ago', '431 views', '6 hours ago', '2.7K views', '6 hours ago', '2K views', '6 hours ago', '347 views', '7 hours ago', '264 views', '7 hours ago', '546 views', '7 hours ago', '6.1K views', '9 hours ago', '284 views', '9 hours ago', '174 views', '9 hours ago', '714 views', '10 hours ago', '13K views', '11 hours ago', '132 views', '11 hours ago', '497 views', '11 hours ago', '111 views', '12 hours ago']\n"
     ]
    }
   ],
   "source": [
    "# checking details:\n",
    "print(video_when)"
   ]
  },
  {
   "cell_type": "code",
   "execution_count": null,
   "id": "a98d1e12",
   "metadata": {},
   "outputs": [],
   "source": [
    "project completed..........."
   ]
  }
 ],
 "metadata": {
  "kernelspec": {
   "display_name": "Python 3 (ipykernel)",
   "language": "python",
   "name": "python3"
  },
  "language_info": {
   "codemirror_mode": {
    "name": "ipython",
    "version": 3
   },
   "file_extension": ".py",
   "mimetype": "text/x-python",
   "name": "python",
   "nbconvert_exporter": "python",
   "pygments_lexer": "ipython3",
   "version": "3.9.13"
  }
 },
 "nbformat": 4,
 "nbformat_minor": 5
}
